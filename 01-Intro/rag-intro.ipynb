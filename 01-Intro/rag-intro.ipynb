{
 "cells": [
  {
   "cell_type": "code",
   "execution_count": 39,
   "id": "f37d3399-88e6-4ba5-90d2-1444ae66cc4c",
   "metadata": {},
   "outputs": [
    {
     "name": "stdout",
     "output_type": "stream",
     "text": [
      "--2025-07-05 08:19:38--  https://raw.githubusercontent.com/alexeygrigorev/minsearch/refs/heads/main/minsearch.py\n",
      "Resolving raw.githubusercontent.com (raw.githubusercontent.com)... 185.199.110.133, 185.199.111.133, 185.199.108.133, ...\n",
      "Connecting to raw.githubusercontent.com (raw.githubusercontent.com)|185.199.110.133|:443... connected.\n",
      "HTTP request sent, awaiting response... 200 OK\n",
      "Length: 4073 (4.0K) [text/plain]\n",
      "Saving to: ‘minsearch.py.1’\n",
      "\n",
      "minsearch.py.1      100%[===================>]   3.98K  --.-KB/s    in 0s      \n",
      "\n",
      "2025-07-05 08:19:38 (56.3 MB/s) - ‘minsearch.py.1’ saved [4073/4073]\n",
      "\n"
     ]
    }
   ],
   "source": [
    "!wget https://raw.githubusercontent.com/alexeygrigorev/minsearch/refs/heads/main/minsearch.py"
   ]
  },
  {
   "cell_type": "code",
   "execution_count": 40,
   "id": "88b5eb35-1dbc-4ba9-8c2a-24bd6f09a65a",
   "metadata": {},
   "outputs": [
    {
     "name": "stderr",
     "output_type": "stream",
     "text": [
      "/workspaces/llm-zoomcamp/01-Intro/minsearch.py:10: UserWarning: Now minsearch is installable via pip: 'pip install minsearch'. Remove the downloaded file and re-install it with pip.\n",
      "  warnings.warn(\n"
     ]
    }
   ],
   "source": [
    "import minsearch"
   ]
  },
  {
   "cell_type": "code",
   "execution_count": 41,
   "id": "fb98c47f-642e-4c3b-bbb7-7592fb617e6d",
   "metadata": {},
   "outputs": [],
   "source": [
    "import json"
   ]
  },
  {
   "cell_type": "code",
   "execution_count": 42,
   "id": "7400c772-8c62-42d2-bed9-bca51d5c97de",
   "metadata": {},
   "outputs": [],
   "source": [
    "import openai\n",
    "from openai import OpenAI"
   ]
  },
  {
   "cell_type": "code",
   "execution_count": 43,
   "id": "d7a5b448-9a11-4c5c-8a03-8783f9417c0d",
   "metadata": {},
   "outputs": [],
   "source": [
    "import os\n",
    "from dotenv import load_dotenv"
   ]
  },
  {
   "cell_type": "code",
   "execution_count": 44,
   "id": "00cc6eb2-2600-495b-ac87-c62dcb8b9524",
   "metadata": {},
   "outputs": [],
   "source": [
    "load_dotenv()\n",
    "openai.api_key = os.getenv(\"OPENAI_API_KEY\")"
   ]
  },
  {
   "cell_type": "code",
   "execution_count": 45,
   "id": "81bff3b6-8a74-474e-92c2-625938032af9",
   "metadata": {},
   "outputs": [],
   "source": [
    "client = OpenAI()"
   ]
  },
  {
   "cell_type": "code",
   "execution_count": 46,
   "id": "a18806d5-bce0-48c7-a317-4dbeeb0cf9e4",
   "metadata": {},
   "outputs": [],
   "source": [
    "with open('../documents.json', 'rt') as f_in:\n",
    "    docs_raw = json.load(f_in)"
   ]
  },
  {
   "cell_type": "code",
   "execution_count": 47,
   "id": "9dcd2713-03ef-4e67-bb4b-4a313e3c1443",
   "metadata": {},
   "outputs": [],
   "source": [
    "documents = []\n",
    "\n",
    "for course_dict in docs_raw:\n",
    "    for docs in course_dict['documents']:\n",
    "        docs['course'] = course_dict['course']\n",
    "        documents.append(docs)"
   ]
  },
  {
   "cell_type": "code",
   "execution_count": 48,
   "id": "57ee70d3-2255-47b0-89f7-0275aad02c08",
   "metadata": {},
   "outputs": [
    {
     "data": {
      "text/plain": [
       "{'text': \"The purpose of this document is to capture frequently asked technical questions\\nThe exact day and hour of the course will be 15th Jan 2024 at 17h00. The course will start with the first  “Office Hours'' live.1\\nSubscribe to course public Google Calendar (it works from Desktop only).\\nRegister before the course starts using this link.\\nJoin the course Telegram channel with announcements.\\nDon’t forget to register in DataTalks.Club's Slack and join the channel.\",\n",
       " 'section': 'General course-related questions',\n",
       " 'question': 'Course - When will the course start?',\n",
       " 'course': 'data-engineering-zoomcamp'}"
      ]
     },
     "execution_count": 48,
     "metadata": {},
     "output_type": "execute_result"
    }
   ],
   "source": [
    "documents[0]"
   ]
  },
  {
   "cell_type": "code",
   "execution_count": 49,
   "id": "90b74fa1-7909-4ee2-96d1-8970dbfd8d59",
   "metadata": {},
   "outputs": [],
   "source": [
    "index = minsearch.Index(\n",
    "    text_fields = ['text', 'section', 'question'],\n",
    "    keyword_fields = ['course']\n",
    ")"
   ]
  },
  {
   "cell_type": "code",
   "execution_count": 50,
   "id": "0529c883-23e2-4461-843d-986ca9933fad",
   "metadata": {},
   "outputs": [
    {
     "data": {
      "text/plain": [
       "<minsearch.Index at 0x7e4e308b0590>"
      ]
     },
     "execution_count": 50,
     "metadata": {},
     "output_type": "execute_result"
    }
   ],
   "source": [
    "index.fit(documents)"
   ]
  },
  {
   "cell_type": "code",
   "execution_count": 51,
   "id": "3676d5e5-0f8d-4fe0-83f1-f0041ce70f4b",
   "metadata": {},
   "outputs": [],
   "source": [
    "q = 'the course has already started, can I still enroll?'"
   ]
  },
  {
   "cell_type": "code",
   "execution_count": 52,
   "id": "26bb6dd5-d4b8-449c-a1f2-1db16bc7d22b",
   "metadata": {},
   "outputs": [],
   "source": [
    "def search(query):\n",
    "    boost = {'question': 3.0, 'section': 0.5}\n",
    "\n",
    "    results = index.search(\n",
    "        query=query,\n",
    "        filter_dict={'course': 'data-engineering-zoomcamp'},\n",
    "        boost_dict=boost,\n",
    "        num_results=5\n",
    "    )\n",
    "    return results"
   ]
  },
  {
   "cell_type": "code",
   "execution_count": 53,
   "id": "fb3e3f9c-3d29-44d0-afd9-4da7746dfe83",
   "metadata": {},
   "outputs": [],
   "source": [
    "def build_prompt(query, search_results):\n",
    "    prompt_template = \"\"\"\n",
    "        You are course teaching assistant, Answer the QUESTION  based on CONTEXT from FAQ database.\n",
    "        Use only facts from teh CONTEXT when answering the QUESTION.\n",
    "        If the CONTEXT doesn't contain the answer, output NONE\n",
    "\n",
    "        QUESTION: {question}\n",
    "\n",
    "        CONTEXT: {context}\n",
    "    \"\"\".strip()\n",
    "\n",
    "    context = \"\"\n",
    "\n",
    "    for doc in search_results:\n",
    "        context = context + f\"section: {doc['section']}\\nquestion: {doc['question']}\\nanswer: {doc['text']}\\n\\n\"\n",
    "\n",
    "    prompt = prompt_template.format(question=query, context=context).strip()\n",
    "\n",
    "    return prompt"
   ]
  },
  {
   "cell_type": "code",
   "execution_count": 54,
   "id": "b947df15-9a80-471d-9ae5-ae29feba8220",
   "metadata": {},
   "outputs": [],
   "source": [
    "def llm(prompt):\n",
    "    response = client.chat.completions.create(\n",
    "        model='gpt-4o',\n",
    "        messages=[{\"role\": \"user\", \"content\": prompt}]\n",
    "    )\n",
    "\n",
    "    return response.choices[0].message.content"
   ]
  },
  {
   "cell_type": "code",
   "execution_count": 78,
   "id": "93a8a5a9-1c81-41bb-9a8b-eb77d0791121",
   "metadata": {},
   "outputs": [],
   "source": [
    "def rag(query):\n",
    "    search_results = search(query)\n",
    "    prompt = build_prompt(query, search_results)\n",
    "    answer = llm(prompt)\n",
    "    return answer"
   ]
  },
  {
   "cell_type": "code",
   "execution_count": 79,
   "id": "879a28c0-5370-4fd5-bdab-456766a0547f",
   "metadata": {},
   "outputs": [
    {
     "data": {
      "text/plain": [
       "\"Yes, even if you don't register, you're still eligible to submit the homeworks. Be aware, however, that there will be deadlines for turning in the final projects. So don't leave everything for the last minute.\""
      ]
     },
     "execution_count": 79,
     "metadata": {},
     "output_type": "execute_result"
    }
   ],
   "source": [
    "query = \"the course has already started, can I still enroll?\"\n",
    "rag(query)"
   ]
  },
  {
   "cell_type": "markdown",
   "id": "a010fdb2-99ec-4fae-a2ae-b5a63f923a4f",
   "metadata": {},
   "source": [
    "## Search with Elastic Search"
   ]
  },
  {
   "cell_type": "code",
   "execution_count": 33,
   "id": "276ccdac-a2f9-4170-8cdb-40e35439cd1f",
   "metadata": {},
   "outputs": [],
   "source": [
    "from elasticsearch import Elasticsearch"
   ]
  },
  {
   "cell_type": "code",
   "execution_count": 34,
   "id": "43e455cd-29bc-488e-8997-2f0e4969d03c",
   "metadata": {},
   "outputs": [],
   "source": [
    "es_client = Elasticsearch('http://localhost:9200')"
   ]
  },
  {
   "cell_type": "code",
   "execution_count": 35,
   "id": "482d2c34-64bb-42a9-87c8-e1e3fbb0bd44",
   "metadata": {},
   "outputs": [
    {
     "data": {
      "text/plain": [
       "ObjectApiResponse({'name': '695702293d30', 'cluster_name': 'docker-cluster', 'cluster_uuid': '7CiLm6SgR0uZP2YBVeR8Og', 'version': {'number': '9.0.3', 'build_flavor': 'default', 'build_type': 'docker', 'build_hash': 'cc7302afc8499e83262ba2ceaa96451681f0609d', 'build_date': '2025-06-18T22:09:56.772581489Z', 'build_snapshot': False, 'lucene_version': '10.1.0', 'minimum_wire_compatibility_version': '8.18.0', 'minimum_index_compatibility_version': '8.0.0'}, 'tagline': 'You Know, for Search'})"
      ]
     },
     "execution_count": 35,
     "metadata": {},
     "output_type": "execute_result"
    }
   ],
   "source": [
    "es_client.info()"
   ]
  },
  {
   "cell_type": "code",
   "execution_count": 36,
   "id": "42057c0b-37b3-4b92-9558-81c9f549514c",
   "metadata": {},
   "outputs": [
    {
     "data": {
      "text/plain": [
       "ObjectApiResponse({'acknowledged': True, 'shards_acknowledged': True, 'index': 'course-questions'})"
      ]
     },
     "execution_count": 36,
     "metadata": {},
     "output_type": "execute_result"
    }
   ],
   "source": [
    "index_settings = {\n",
    "    \"settings\": {\n",
    "        \"number_of_shards\": 1,\n",
    "        \"number_of_replicas\": 0\n",
    "    },\n",
    "    \"mappings\": {\n",
    "        \"properties\": {\n",
    "            \"text\": {\"type\": \"text\"},\n",
    "            \"section\": {\"type\": \"text\"},\n",
    "            \"question\": {\"type\": \"text\"},\n",
    "            \"course\": {\"type\": \"keyword\"} \n",
    "        }\n",
    "    }\n",
    "}\n",
    "\n",
    "index_name = \"course-questions\"\n",
    "\n",
    "es_client.indices.create(index=index_name, body=index_settings)"
   ]
  },
  {
   "cell_type": "code",
   "execution_count": 55,
   "id": "d2bddc32-5255-4fe9-8434-a2e23ae16b02",
   "metadata": {},
   "outputs": [],
   "source": [
    "# progress bar\n",
    "from tqdm.auto import tqdm"
   ]
  },
  {
   "cell_type": "code",
   "execution_count": 56,
   "id": "dc589977-c519-4fa7-a337-fe7ab83ab49f",
   "metadata": {},
   "outputs": [
    {
     "name": "stderr",
     "output_type": "stream",
     "text": [
      "100%|█████████████████████████████████████████████████████████████████████████████████████████████████████████████| 948/948 [00:03<00:00, 251.92it/s]\n"
     ]
    }
   ],
   "source": [
    "# Loop melalui setiap dokumen dalam list 'documents' dengan progress bar dari tqdm\n",
    "# Setiap dokumen diindeks (disimpan) ke Elasticsearch pada indeks bernama 'index_name'\n",
    "# Fungsi 'index()' mengirim data ke Elasticsearch agar bisa dicari dan dianalisis\n",
    "\n",
    "for doc in tqdm(documents):\n",
    "    es_client.index(index=index_name, document=doc)"
   ]
  },
  {
   "cell_type": "code",
   "execution_count": 58,
   "id": "099edc2f-8ca1-4a7c-adc4-257e44bb7d21",
   "metadata": {},
   "outputs": [],
   "source": [
    "query = \"the course has already started, can I still enroll?\""
   ]
  },
  {
   "cell_type": "code",
   "execution_count": 65,
   "id": "277babe0-9a74-4706-95f2-05269d4b59b3",
   "metadata": {},
   "outputs": [],
   "source": [
    "def elastic_search(query):\n",
    "    search_query = {\n",
    "        \"size\": 5,\n",
    "        \"query\": {\n",
    "            \"bool\": {\n",
    "                \"must\": {\n",
    "                    \"multi_match\": {\n",
    "                        \"query\": query,\n",
    "                        \"fields\": [\"question^3\", \"text\", \"section\"],\n",
    "                        \"type\": \"best_fields\"\n",
    "                    }\n",
    "                },\n",
    "                \"filter\": {\n",
    "                    \"term\": {\n",
    "                        \"course\": \"data-engineering-zoomcamp\"\n",
    "                    }\n",
    "                }\n",
    "            }\n",
    "        }\n",
    "    }\n",
    "    # search question\n",
    "    response = es_client.search(index=index_name, body=search_query)\n",
    "\n",
    "    result_doc = []\n",
    "\n",
    "    for hit in response['hits']['hits']:\n",
    "        result_doc.append(hit['_source'])\n",
    "\n",
    "    return result_doc"
   ]
  },
  {
   "cell_type": "code",
   "execution_count": 67,
   "id": "1c971850-5417-455e-bf26-3a5e81ea2b9d",
   "metadata": {},
   "outputs": [],
   "source": [
    "def rag(query):\n",
    "    search_results = elastic_search(query)\n",
    "    prompt = build_prompt(query, search_results)\n",
    "    answer = llm(prompt)\n",
    "    return answer"
   ]
  },
  {
   "cell_type": "code",
   "execution_count": null,
   "id": "19ab0c7b-8c10-437a-b2f6-db2fb1c03ab4",
   "metadata": {},
   "outputs": [],
   "source": [
    "rag(query)"
   ]
  },
  {
   "cell_type": "code",
   "execution_count": null,
   "id": "36c74b9e-8b27-4a1c-aa3c-7832162a74df",
   "metadata": {},
   "outputs": [],
   "source": []
  }
 ],
 "metadata": {
  "kernelspec": {
   "display_name": "Python 3 (ipykernel)",
   "language": "python",
   "name": "python3"
  },
  "language_info": {
   "codemirror_mode": {
    "name": "ipython",
    "version": 3
   },
   "file_extension": ".py",
   "mimetype": "text/x-python",
   "name": "python",
   "nbconvert_exporter": "python",
   "pygments_lexer": "ipython3",
   "version": "3.12.1"
  }
 },
 "nbformat": 4,
 "nbformat_minor": 5
}
